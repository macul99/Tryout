{
 "cells": [
  {
   "cell_type": "code",
   "execution_count": 1,
   "id": "8229d9ad",
   "metadata": {
    "ExecuteTime": {
     "end_time": "2024-02-22T03:36:56.110605Z",
     "start_time": "2024-02-22T03:35:58.093471Z"
    }
   },
   "outputs": [
    {
     "name": "stdout",
     "output_type": "stream",
     "text": [
      "[0 1 2]\n",
      "Fitting 5 folds for each of 27 candidates, totalling 135 fits\n",
      "Best parameters:  {'learning_rate': 0.01, 'max_depth': 4, 'n_estimators': 100}\n",
      "Best training score:  0.9583333333333334\n",
      "Train accuracy: 0.98\n",
      "Test accuracy: 1.0\n"
     ]
    }
   ],
   "source": [
    "import pandas as pd\n",
    "from sklearn.model_selection import GridSearchCV, StratifiedKFold\n",
    "from sklearn.tree import DecisionTreeClassifier\n",
    "from sklearn.model_selection import train_test_split\n",
    "from sklearn.datasets import load_iris\n",
    "from sklearn.metrics import accuracy_score\n",
    "from sklearn.preprocessing import LabelEncoder\n",
    "import xgboost as xgb\n",
    "\n",
    "# Load the Iris dataset\n",
    "iris = load_iris()\n",
    "X = iris.data\n",
    "y = iris.target\n",
    "\n",
    "# Lable Encode for non-numerical lable\n",
    "le = LabelEncoder()\n",
    "le.fit(y)\n",
    "print(le.classes_)\n",
    "y = le.transform(y)\n",
    "#y_org = le.inverse_transform(y)\n",
    "\n",
    "# Split data into training and testing sets\n",
    "X_train, X_test, y_train, y_test = train_test_split(X, y, test_size=0.2, random_state=42)\n",
    "'''\n",
    "# Create a decision tree classifier\n",
    "model = DecisionTreeClassifier()\n",
    "\n",
    "# Define hyperparameter grid\n",
    "param_grid = {\n",
    "    \"criterion\": [\"gini\", \"entropy\"],\n",
    "    \"max_depth\": [3, 5, 7, 10],\n",
    "    \"min_samples_split\": [2, 5, 10],\n",
    "    \"min_samples_leaf\": [1, 2, 4]\n",
    "}\n",
    "'''\n",
    "# Define the XGBoost model\n",
    "model = xgb.XGBClassifier(use_label_encoder=False, eval_metric='mlogloss')\n",
    "\n",
    "# Define the parameter grid for grid search\n",
    "param_grid = {\n",
    "    'max_depth': [2, 3, 4],\n",
    "    'n_estimators': [50, 75, 100],\n",
    "    'learning_rate': [0.01, 0.02, 0.03],\n",
    "}\n",
    "\n",
    "# Set up stratified K-fold cross-validation\n",
    "kfold = StratifiedKFold(n_splits=5, shuffle=True, random_state=42)\n",
    "\n",
    "# Define the grid search object\n",
    "grid_search = GridSearchCV(estimator=model, param_grid=param_grid, cv=kfold, scoring='accuracy', verbose=1)\n",
    "grid_search.fit(X_train, y_train)\n",
    "\n",
    "# Get best hyperparameters and model\n",
    "best_model = grid_search.best_estimator_\n",
    "print(\"Best parameters: \", grid_search.best_params_)\n",
    "print(\"Best training score: \", grid_search.best_score_)\n",
    "\n",
    "# Evaluate best model on test set\n",
    "train_score = best_model.score(X, y)\n",
    "print(\"Train accuracy:\", train_score)\n",
    "test_score = best_model.score(X_test, y_test)\n",
    "print(\"Test accuracy:\", test_score)\n",
    "\n",
    "#predictions = best_model.predict(X_test)\n",
    "#accuracy = accuracy_score(y_test, predictions)\n",
    "#print(\"Test accuracy:\", accuracy)\n"
   ]
  },
  {
   "cell_type": "code",
   "execution_count": 26,
   "id": "25cb0a52",
   "metadata": {
    "ExecuteTime": {
     "end_time": "2024-02-22T02:20:30.541793Z",
     "start_time": "2024-02-22T02:20:30.532344Z"
    }
   },
   "outputs": [
    {
     "data": {
      "text/plain": [
       "(150, 4)"
      ]
     },
     "execution_count": 26,
     "metadata": {},
     "output_type": "execute_result"
    }
   ],
   "source": [
    "X.shape"
   ]
  },
  {
   "cell_type": "code",
   "execution_count": 4,
   "id": "658a650d",
   "metadata": {
    "ExecuteTime": {
     "end_time": "2024-02-22T03:37:22.961153Z",
     "start_time": "2024-02-22T03:37:22.950165Z"
    }
   },
   "outputs": [
    {
     "data": {
      "text/plain": [
       "tensor([1, 0, 0, 2, 0, 1, 0, 1, 2, 0, 1, 0, 1, 2, 0, 2, 1, 1, 0, 0, 2, 0, 2, 0,\n",
       "        1, 1, 2, 0, 0, 0, 0, 2, 2, 0, 1, 2, 2, 0, 1, 1, 2, 2, 2, 0, 2, 1, 2, 0,\n",
       "        2, 2, 0, 1, 0, 2, 0, 0, 0, 0, 2, 0, 0, 0, 2, 2, 1, 1, 0, 2, 2, 0, 2, 1,\n",
       "        1, 2, 1, 2, 2, 1, 2, 0, 2, 0, 0, 0, 1, 1, 0, 0, 2, 0, 2, 1, 2, 2, 2, 2,\n",
       "        0, 0, 1, 1, 0, 2, 2, 0, 2, 1, 2, 1, 2, 0, 1, 2, 2, 0, 0, 2, 1, 0, 2, 2,\n",
       "        2, 1, 2, 2, 1, 2, 2, 1, 0, 2, 2, 1, 0, 0, 0, 0, 0, 0, 1, 0, 1, 2, 1, 2,\n",
       "        0, 1, 1, 1, 0, 2])"
      ]
     },
     "execution_count": 4,
     "metadata": {},
     "output_type": "execute_result"
    }
   ],
   "source": [
    "import torch\n",
    "torch.randint(0,3,(X.shape[0],))"
   ]
  },
  {
   "cell_type": "code",
   "execution_count": null,
   "id": "d2a9372d",
   "metadata": {},
   "outputs": [],
   "source": []
  },
  {
   "cell_type": "code",
   "execution_count": 7,
   "id": "087a7fa9",
   "metadata": {
    "ExecuteTime": {
     "end_time": "2024-02-22T03:47:51.629980Z",
     "start_time": "2024-02-22T03:47:47.357104Z"
    }
   },
   "outputs": [
    {
     "name": "stdout",
     "output_type": "stream",
     "text": [
      "Epoch [1/25], Loss: 0.9255\n",
      "Test accuracy: 0.7\n",
      "Epoch [2/25], Loss: 0.6025\n",
      "Test accuracy: 0.7\n",
      "Epoch [3/25], Loss: 0.5491\n",
      "Test accuracy: 0.7333333333333333\n",
      "Epoch [4/25], Loss: 0.4250\n",
      "Test accuracy: 0.7\n",
      "Epoch [5/25], Loss: 0.5474\n",
      "Test accuracy: 0.8\n",
      "Epoch [6/25], Loss: 0.3492\n",
      "Test accuracy: 0.7666666666666667\n",
      "Epoch [7/25], Loss: 0.4537\n",
      "Test accuracy: 0.8\n",
      "Epoch [8/25], Loss: 0.4734\n",
      "Test accuracy: 0.8333333333333334\n",
      "Epoch [9/25], Loss: 0.5025\n",
      "Test accuracy: 0.8333333333333334\n",
      "Epoch [10/25], Loss: 0.2031\n",
      "Test accuracy: 0.8666666666666667\n",
      "Epoch [11/25], Loss: 0.2833\n",
      "Test accuracy: 0.8333333333333334\n",
      "Epoch [12/25], Loss: 0.3391\n",
      "Test accuracy: 0.9333333333333333\n",
      "Epoch [13/25], Loss: 0.0673\n",
      "Test accuracy: 0.9666666666666667\n",
      "Epoch [14/25], Loss: 0.3606\n",
      "Test accuracy: 0.9666666666666667\n",
      "Epoch [15/25], Loss: 0.2758\n",
      "Test accuracy: 0.9666666666666667\n",
      "Epoch [16/25], Loss: 0.0526\n",
      "Test accuracy: 0.8666666666666667\n",
      "Epoch [17/25], Loss: 0.0602\n",
      "Test accuracy: 0.8666666666666667\n",
      "Epoch [18/25], Loss: 0.0896\n",
      "Test accuracy: 0.9666666666666667\n",
      "Epoch [19/25], Loss: 0.0477\n",
      "Test accuracy: 0.9666666666666667\n",
      "Epoch [20/25], Loss: 0.0812\n",
      "Test accuracy: 0.9666666666666667\n",
      "Epoch [21/25], Loss: 0.1362\n",
      "Test accuracy: 1.0\n",
      "Epoch [22/25], Loss: 0.0486\n",
      "Test accuracy: 0.9666666666666667\n",
      "Epoch [23/25], Loss: 0.1728\n",
      "Test accuracy: 0.9666666666666667\n",
      "Epoch [24/25], Loss: 0.0833\n",
      "Test accuracy: 0.9666666666666667\n",
      "Epoch [25/25], Loss: 0.0873\n",
      "Test accuracy: 0.9666666666666667\n"
     ]
    }
   ],
   "source": [
    "import torch\n",
    "import torch.nn as nn\n",
    "import torch.optim as optim\n",
    "from torch.utils.data import Dataset, DataLoader\n",
    "from torchvision import datasets\n",
    "\n",
    "device = torch.device(\"cuda\" if torch.cuda.is_available() else \"cpu\")\n",
    "\n",
    "class MyDataset(torch.utils.data.Dataset):\n",
    "    def __init__(self, X, X_Catg, y):\n",
    "        self.X = X\n",
    "        self.X_Catg = X_Catg\n",
    "        self.y = y\n",
    "\n",
    "    def __len__(self):\n",
    "        return len(self.X)\n",
    "\n",
    "    def __getitem__(self, idx):\n",
    "        return self.X[idx], self.X_Catg[idx], self.y[idx]\n",
    "    \n",
    "# Define a simple model with 2 linear layers\n",
    "class ClassificationModel(nn.Module):\n",
    "    def __init__(self, input_size, num_catg, num_classes):\n",
    "        super(ClassificationModel, self).__init__()\n",
    "        self.hidden_dim = 16\n",
    "        self.input_size = input_size\n",
    "        self.num_catg = num_catg \n",
    "        self.num_classes = num_classes\n",
    "        self.emb = nn.Embedding(num_catg, self.hidden_dim)\n",
    "        self.linear1 = nn.Linear(input_size, self.hidden_dim)  # Hidden layer\n",
    "        self.linear2 = nn.Linear(self.hidden_dim, num_classes)  # Output layer\n",
    "\n",
    "    def forward(self, x, xc):\n",
    "        x = torch.relu(self.linear1(x) + self.emb(xc))  # Apply ReLU activation\n",
    "        x = self.linear2(x)\n",
    "        return x\n",
    "\n",
    "num_catg = 9\n",
    "\n",
    "# create dataset and dataloader\n",
    "train_dataset = MyDataset(\n",
    "    torch.from_numpy(X).type(torch.float32), \n",
    "    torch.randint(0,num_catg,(X.shape[0],)),\n",
    "    torch.from_numpy(y).type(torch.long),\n",
    ")\n",
    "test_dataset = MyDataset(\n",
    "    torch.from_numpy(X_test).type(torch.float32), \n",
    "    torch.randint(0,num_catg,(X_test.shape[0],)),\n",
    "    torch.from_numpy(y_test).type(torch.long)\n",
    ")\n",
    "\n",
    "train_dataloader = DataLoader(train_dataset, batch_size=16, shuffle=True)\n",
    "test_dataloader = DataLoader(test_dataset, batch_size=16, shuffle=True)\n",
    "\n",
    "# Create the model instance\n",
    "model = ClassificationModel(input_size=X.shape[1], num_catg=num_catg, num_classes=len(le.classes_)).to(device)\n",
    "\n",
    "# Define loss function and optimizer\n",
    "criterion = nn.CrossEntropyLoss()  # Suitable for multi-class classification\n",
    "optimizer = optim.Adam(model.parameters(), lr=0.01)\n",
    "\n",
    "num_epochs = 25\n",
    "\n",
    "# Training loop\n",
    "for epoch in range(num_epochs):\n",
    "    for xt, xct, yt in train_dataloader:\n",
    "    # Forward pass\n",
    "        outputs = model(xt.to(device), xct.to(device))\n",
    "        loss = criterion(outputs, yt.to(device))\n",
    "\n",
    "        # Backward pass and optimization\n",
    "        optimizer.zero_grad()\n",
    "        loss.backward()\n",
    "        optimizer.step()\n",
    "\n",
    "    # Print training progress\n",
    "    print(f\"Epoch [{epoch+1}/{num_epochs}], Loss: {loss.item():.4f}\")\n",
    "    \n",
    "    with torch.no_grad():\n",
    "        predictions = model(test_dataset.X.to(device), test_dataset.X_Catg.to(device))\n",
    "        _, predicted_classes = torch.max(predictions.cpu(), 1)\n",
    "        print(\"Test accuracy:\", accuracy_score(y_test, predicted_classes.numpy()))\n",
    "\n"
   ]
  },
  {
   "cell_type": "code",
   "execution_count": null,
   "id": "fb33c048",
   "metadata": {},
   "outputs": [],
   "source": []
  },
  {
   "cell_type": "code",
   "execution_count": null,
   "id": "2daee24f",
   "metadata": {},
   "outputs": [],
   "source": [
    "import torch\n",
    "import torch.nn as nn\n",
    "import torch.optim as optim\n",
    "from torchvision import datasets, transforms\n",
    "\n",
    "# Device configuration\n",
    "device = torch.device(\"cuda\" if torch.cuda.is_available() else \"cpu\")\n",
    "\n",
    "# Define the model (here, a simple CNN)\n",
    "class Net(nn.Module):\n",
    "    def __init__(self):\n",
    "        super(Net, self).__init__()\n",
    "        self.conv1 = nn.Conv2d(3, 6, 5)\n",
    "        self.pool = nn.MaxPool2d(2, 2)\n",
    "        self.conv2 = nn.Conv2d(6, 16, 5)\n",
    "        self.fc1 = nn.Linear(16 * 5 * 5, 120)\n",
    "        self.fc2 = nn.Linear(120, 84)\n",
    "        self.fc3 = nn.Linear(84, 10)  # Output layer for 10 classes\n",
    "\n",
    "    def forward(self, x):\n",
    "        x = self.pool(nn.functional.relu(self.conv1(x)))\n",
    "        x = self.pool(nn.functional.relu(self.conv2(x)))\n",
    "        x = x.view(-1, 16 * 5 * 5)\n",
    "        x = nn.functional.relu(self.fc1(x))\n",
    "        x = nn.functional.relu(self.fc2(x))\n",
    "        x = self.fc3(x)\n",
    "        return x\n",
    "\n",
    "# Load and transform the dataset\n",
    "transform = transforms.Compose([\n",
    "    transforms.ToTensor(),\n",
    "    transforms.Normalize((0.5, 0.5, 0.5), (0.5, 0.5, 0.5))\n",
    "])\n",
    "\n",
    "trainset = datasets.CIFAR10(root='./data', train=True, download=True, transform=transform)\n",
    "trainloader = torch.utils.data.DataLoader(trainset, batch_size=4, shuffle=True, num_workers=2)\n",
    "\n",
    "testset = datasets.CIFAR10(root='./data', train=False, download=True, transform=transform)\n",
    "testloader = torch.utils.data.DataLoader(testset, batch_size=4, shuffle=False, num_workers=2)\n",
    "\n",
    "# Instantiate the model and optimizer\n",
    "model = Net().to(device)\n",
    "criterion = nn.CrossEntropyLoss()\n",
    "optimizer = optim.SGD(model.parameters(), lr=0.001, momentum=0.9)\n",
    "\n",
    "# Training loop\n",
    "for epoch in range(2):  # Loop over the dataset multiple times\n",
    "\n",
    "    running_loss = 0.0\n",
    "    for i, data in enumerate(trainloader, 0):\n",
    "        # Get the inputs; data is a list of [inputs, labels]\n",
    "        inputs, labels = data[0].to(device), data[1].to(device)\n",
    "\n",
    "        # Zero the parameter gradients\n",
    "        optimizer.zero_grad()\n",
    "\n",
    "        # Forward + backward + optimize\n",
    "        outputs = model(inputs)\n",
    "        loss = criterion(outputs, labels)\n",
    "        loss.backward()\n",
    "        optimizer.step()\n",
    "\n",
    "        # Print statistics\n",
    "        running_loss += loss.item()\n",
    "        if i % 2000 == 1999:    # Print every 2000 mini-batches\n",
    "            print('[%d, %5d] loss: %.3f' %\n",
    "                  (epoch + 1, i + 1, running_loss / 2000))\n",
    "            running_loss = 0.0\n",
    "\n",
    "print('Finished Training')\n"
   ]
  },
  {
   "cell_type": "code",
   "execution_count": 13,
   "id": "23969e54",
   "metadata": {
    "ExecuteTime": {
     "end_time": "2024-02-22T03:52:01.956706Z",
     "start_time": "2024-02-22T03:52:01.944747Z"
    }
   },
   "outputs": [
    {
     "data": {
      "text/plain": [
       "array([0, 0, 0, 0, 0, 0, 0, 0, 0, 0, 0, 0, 0, 0, 0, 0, 0, 0, 0, 0, 0, 0,\n",
       "       0, 0, 0, 0, 0, 0, 0, 0, 0, 0, 0, 0, 0, 0, 0, 0, 0, 0, 0, 0, 0, 0,\n",
       "       0, 0, 0, 0, 0, 0, 1, 1, 1, 1, 1, 1, 1, 1, 1, 1, 1, 1, 1, 1, 1, 1,\n",
       "       1, 1, 1, 1, 1, 1, 1, 1, 1, 1, 1, 1, 1, 1, 1, 1, 1, 1, 1, 1, 1, 1,\n",
       "       1, 1, 1, 1, 1, 1, 1, 1, 1, 1, 1, 1, 2, 2, 2, 2, 2, 2, 2, 2, 2, 2,\n",
       "       2, 2, 2, 2, 2, 2, 2, 2, 2, 2, 2, 2, 2, 2, 2, 2, 2, 2, 2, 2, 2, 2,\n",
       "       2, 2, 2, 2, 2, 2, 2, 2, 2, 2, 2, 2, 2, 2, 2, 2, 2, 2], dtype=int64)"
      ]
     },
     "execution_count": 13,
     "metadata": {},
     "output_type": "execute_result"
    }
   ],
   "source": [
    "y"
   ]
  },
  {
   "cell_type": "code",
   "execution_count": 16,
   "id": "a2fdf8e3",
   "metadata": {
    "ExecuteTime": {
     "end_time": "2024-02-22T03:53:54.593131Z",
     "start_time": "2024-02-22T03:53:54.435162Z"
    },
    "scrolled": true
   },
   "outputs": [
    {
     "data": {
      "text/plain": [
       "(array([50., 50., 50.]), array([0, 1, 2, 3]), <a list of 3 Patch objects>)"
      ]
     },
     "execution_count": 16,
     "metadata": {},
     "output_type": "execute_result"
    },
    {
     "data": {
      "image/png": "[encoded data removed]",
      "text/plain": [
       "<Figure size 432x288 with 1 Axes>"
      ]
     },
     "metadata": {
      "needs_background": "light"
     },
     "output_type": "display_data"
    }
   ],
   "source": [
    "import matplotlib.pyplot as plt\n",
    "plt.hist(y, bins=[0,1,2,3])"
   ]
  },
  {
   "cell_type": "code",
   "execution_count": null,
   "id": "f22789c7",
   "metadata": {},
   "outputs": [],
   "source": []
  }
 ],
 "metadata": {
  "kernelspec": {
   "display_name": "Python 3",
   "language": "python",
   "name": "python3"
  },
  "toc": {
   "base_numbering": 1,
   "nav_menu": {},
   "number_sections": true,
   "sideBar": true,
   "skip_h1_title": false,
   "title_cell": "Table of Contents",
   "title_sidebar": "Contents",
   "toc_cell": false,
   "toc_position": {},
   "toc_section_display": true,
   "toc_window_display": false
  }
 },
 "nbformat": 4,
 "nbformat_minor": 5
}
